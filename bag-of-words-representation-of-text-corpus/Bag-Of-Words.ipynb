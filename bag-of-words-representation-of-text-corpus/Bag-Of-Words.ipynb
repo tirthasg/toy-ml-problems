{
 "cells": [
  {
   "cell_type": "code",
   "execution_count": 1,
   "metadata": {},
   "outputs": [],
   "source": [
    "# Import NumPy, SciPy, and other libraries for utility functions\n",
    "\n",
    "import numpy as np\n",
    "from collections import Counter\n",
    "from scipy.sparse import csr_matrix\n",
    "import pickle"
   ]
  },
  {
   "cell_type": "code",
   "execution_count": 2,
   "metadata": {},
   "outputs": [],
   "source": [
    "# Function to generate the vocabulary of the text corpus\n",
    "# Input: Text corpus represented as a list of sentences\n",
    "# Output: Vocabulary of the text corpus represented as a Python dictionary with (unique_words, dimesion)\n",
    "# key-value pairs as it elements\n",
    "\n",
    "def fit(dataset):\n",
    "    # Initializing an empty set\n",
    "    unique_words = set()\n",
    "    \n",
    "    # Iterating over every row in the corpus\n",
    "    # Each row is essentially a sentence represented as a Python string object\n",
    "    for row in dataset:\n",
    "        # Splitting the words by a single white-space character\n",
    "        # And, storing them in a Python list\n",
    "        word_list = row.split()\n",
    "        \n",
    "        # Iterating over every word in the word list\n",
    "        for word in word_list:\n",
    "            # Ignoring words which are essentially single characters\n",
    "            if len(word) > 1:\n",
    "                # Adding words into the set\n",
    "                # At the end of the iteration, it will hold only unique words in the sentence\n",
    "                unique_words.add(word)\n",
    "    \n",
    "    # Sorting the list of unique words lexicographically \n",
    "    sorted_unique_words = sorted(list(unique_words))\n",
    "    \n",
    "    # Generating the vocabulary which is a collection of words paired with their dimension code\n",
    "    vocabulary = {word:idx for idx, word in enumerate(sorted_unique_words)}\n",
    "    \n",
    "    # Returning the generate vocabulary\n",
    "    return vocabulary"
   ]
  },
  {
   "cell_type": "code",
   "execution_count": 3,
   "metadata": {},
   "outputs": [],
   "source": [
    "# Function to generate the Bag of Words (BOW) representation of the text corpus\n",
    "# Input: The text corpus, and the vocabulary associated with it\n",
    "# Output: BOW representation of the corpus represented as a Sparse Matrix in CSR Format\n",
    "\n",
    "def transform(dataset, vocabulary):\n",
    "    # Initializing an empty list to store rows, columns, and a non-zero value\n",
    "    rows = []\n",
    "    columns = []\n",
    "    values = []\n",
    "    \n",
    "    # Iterating over the text corpus\n",
    "    # Each row is essentially a sentence represented as a Python string object\n",
    "    for idx, row in enumerate(dataset):\n",
    "        # Splitting the words by a single white-space character\n",
    "        # And, storing them in a Python list\n",
    "        words = row.split()\n",
    "        \n",
    "        # Using a Counter object to generate frequencies of every unique word in the sentence\n",
    "        word_frequencies = dict(Counter(words))\n",
    "        \n",
    "        # Iterating over every unique word, and corresponding frequency in the counter\n",
    "        for word, frequency in word_frequencies.items():\n",
    "            # Ignoring words which are essentially a single character\n",
    "            if len(word) > 1:\n",
    "                # A sanity check for the word to exist in the already generated vocabulary\n",
    "                col_idx = vocabulary.get(word, -1)\n",
    "                if col_idx != -1:\n",
    "                    # Appending row in list of rows\n",
    "                    rows.append(idx)\n",
    "                    \n",
    "                    # Appending column in list of columns\n",
    "                    columns.append(col_idx)\n",
    "                    \n",
    "                    # Appending word frqeuency in list of values storing the frequencies\n",
    "                    values.append(frequency)\n",
    "    \n",
    "    # Creating a Sparse Matrix of the BOW in the CSR format using SciPy\n",
    "    return csr_matrix((values, (rows, columns)), shape=(len(dataset), len(vocabulary)))"
   ]
  },
  {
   "cell_type": "code",
   "execution_count": 4,
   "metadata": {},
   "outputs": [
    {
     "name": "stdout",
     "output_type": "stream",
     "text": [
      "746\n"
     ]
    }
   ],
   "source": [
    "# Pickle the corpus and load it into the computer's memory\n",
    "with open('cleaned_strings', 'rb') as f:\n",
    "    corpus = pickle.load(f)\n",
    "\n",
    "# Printing the size of the corpus\n",
    "print(len(corpus))"
   ]
  },
  {
   "cell_type": "code",
   "execution_count": 5,
   "metadata": {},
   "outputs": [
    {
     "name": "stdout",
     "output_type": "stream",
     "text": [
      "2886\n"
     ]
    }
   ],
   "source": [
    "# Generate the vocabulary by using the fit function\n",
    "vocabulary = fit(corpus)\n",
    "\n",
    "# Print the count of unique words in the vocabulary\n",
    "print(len(vocabulary))"
   ]
  },
  {
   "cell_type": "code",
   "execution_count": 6,
   "metadata": {},
   "outputs": [
    {
     "name": "stdout",
     "output_type": "stream",
     "text": [
      "(746, 2886)\n"
     ]
    }
   ],
   "source": [
    "# Generate the BOW representationg of the corpus\n",
    "bag_of_words = transform(corpus, vocabulary)\n",
    "\n",
    "# Print the shape of BOW of every sentence in the corpus \n",
    "print(bag_of_words.shape)"
   ]
  },
  {
   "cell_type": "code",
   "execution_count": 7,
   "metadata": {},
   "outputs": [
    {
     "name": "stdout",
     "output_type": "stream",
     "text": [
      "[[0 0 0 ... 0 0 0]\n",
      " [0 0 0 ... 0 0 0]\n",
      " [0 0 0 ... 0 0 0]\n",
      " ...\n",
      " [0 0 0 ... 0 0 0]\n",
      " [0 0 0 ... 0 0 0]\n",
      " [0 0 0 ... 0 0 0]]\n"
     ]
    }
   ],
   "source": [
    "# Converting the Sparse Matrix to a Dense Matrix just to get a feel for the BOW representation\n",
    "\n",
    "print(bag_of_words.toarray())"
   ]
  },
  {
   "cell_type": "code",
   "execution_count": null,
   "metadata": {},
   "outputs": [],
   "source": []
  }
 ],
 "metadata": {
  "kernelspec": {
   "display_name": "venv",
   "language": "python",
   "name": "python3"
  },
  "language_info": {
   "codemirror_mode": {
    "name": "ipython",
    "version": 3
   },
   "file_extension": ".py",
   "mimetype": "text/x-python",
   "name": "python",
   "nbconvert_exporter": "python",
   "pygments_lexer": "ipython3",
   "version": "3.10.12"
  }
 },
 "nbformat": 4,
 "nbformat_minor": 2
}
